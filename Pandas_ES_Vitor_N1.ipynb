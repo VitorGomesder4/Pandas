{
  "nbformat": 4,
  "nbformat_minor": 0,
  "metadata": {
    "colab": {
      "provenance": [],
      "authorship_tag": "ABX9TyOdNSTJpMMV+wUvmzV9hcY/",
      "include_colab_link": true
    },
    "kernelspec": {
      "name": "python3",
      "display_name": "Python 3"
    },
    "language_info": {
      "name": "python"
    }
  },
  "cells": [
    {
      "cell_type": "markdown",
      "metadata": {
        "id": "view-in-github",
        "colab_type": "text"
      },
      "source": [
        "<a href=\"https://colab.research.google.com/github/VitorGomesder4/Pandas/blob/main/Pandas_ES_Vitor_N1.ipynb\" target=\"_parent\"><img src=\"https://colab.research.google.com/assets/colab-badge.svg\" alt=\"Open In Colab\"/></a>"
      ]
    },
    {
      "cell_type": "markdown",
      "source": [
        "**Introdução à Programação Orientada a Objetos (POO)** _ Engenharia de Software\n",
        "_ N1\n",
        "\n",
        "Nome: Vitor Gomes Araújo"
      ],
      "metadata": {
        "id": "NU8GcELNUUWl"
      }
    },
    {
      "cell_type": "code",
      "source": [
        "#Pandas é uma biblioteca de codigo aberto que fornece estruturas de dados\n",
        "#faceis de usar para a liguagem de programação python\n",
        "#Além disso, a biblioteca fornece estrutura de dados de alto desempenho e\n",
        "#ferramentas de análise de dados"
      ],
      "metadata": {
        "id": "gluCiJYNiXc8"
      },
      "execution_count": null,
      "outputs": []
    },
    {
      "cell_type": "code",
      "source": [
        "import pandas as pd #importa a biblioteca pandas para seu programa\n",
        "dados = [\"bayern-leverkusen\", \"flamengo\", \"são paulo\"]\n",
        "estados = [\"Leverkusen\", \"Rio de janeiro\", \"São paulo\"]"
      ],
      "metadata": {
        "id": "-XvMY2qvUdvG"
      },
      "execution_count": null,
      "outputs": []
    },
    {
      "cell_type": "code",
      "source": [
        "from ast import Index\n",
        "#Crie uma classe que modele uma pessoa\n",
        "#OBS: por padrão, a cada ano que nossa pessoa envelhece, sendo a idade dela\n",
        "#menor que 21 anos, ela deve crescer 0.5 cm\n",
        "import pandas as pd\n",
        "class pessoa:\n",
        "  nome = str(input(\"Digite seu nome: \"))\n",
        "  peso = float(input(\"Digite seu peso: \"))\n",
        "  idade = int(input(\"Digite sua idade: \"))\n",
        "  altura = float(input(\"Digite sua altura: \"))\n",
        "  envelhecer = float(0.5)\n",
        "  engordar = float()\n",
        "  emagrecer = float()\n",
        "  crescer = float()\n",
        "  atributos = (nome, idade, peso, altura)\n",
        "  metodos = (envelhecer, engordar, emagrecer, crescer)\n",
        "  pessoa = atributos + metodos\n",
        "#dataframe tem que ter os seguintes 4 parametros: #data #Index #columns #dtype"
      ],
      "metadata": {
        "id": "x61nz9mVds8A",
        "outputId": "b7f2a6d7-0679-460e-ffec-590c53cedbf5",
        "colab": {
          "base_uri": "https://localhost:8080/"
        }
      },
      "execution_count": null,
      "outputs": [
        {
          "name": "stdout",
          "output_type": "stream",
          "text": [
            "Digite seu nome: vitor\n",
            "Digite seu peso: 55\n",
            "Digite sua idade: 19\n",
            "Digite sua altura: 1.75\n"
          ]
        }
      ]
    },
    {
      "cell_type": "code",
      "source": [
        "import pandas as pd\n",
        "nomes = [\"Ana\", \"Bruno\", \"Carla\"]\n",
        "idades = [21, 20, 22]\n",
        "dados = list(zip(nomes, idades)) #uma tupla com duas listas\n",
        "colunas = (\"Nome\", \"Idade\")\n",
        "linhas = (\"A\", \"B\", \"C\")\n",
        "print(dados)\n",
        "df = pd.DataFrame(data = dados, columns = colunas, index = linhas)\n",
        "print(\"\\nDATA FRAME\\n\")\n",
        "print(\"\\n{}\".format(df))"
      ],
      "metadata": {
        "colab": {
          "base_uri": "https://localhost:8080/"
        },
        "id": "ptcVFbl5kHh7",
        "outputId": "299545eb-bd7f-4d63-88f7-9769d147a77b"
      },
      "execution_count": null,
      "outputs": [
        {
          "output_type": "stream",
          "name": "stdout",
          "text": [
            "[('Ana', 21), ('Bruno', 20), ('Carla', 22)]\n",
            "\n",
            "DATA FRAME\n",
            "\n",
            "\n",
            "    Nome  Idade\n",
            "A    Ana     21\n",
            "B  Bruno     20\n",
            "C  Carla     22\n"
          ]
        }
      ]
    },
    {
      "cell_type": "code",
      "source": [
        "import pandas as pd\n",
        "dados = [(\"Ana\", 21), (\"Bruno\", 20), (\"Carla\", 22)]\n",
        "colunas = (\"Nome\", \"Idade\")\n",
        "linhas = (\"A\", \"B\", \"C\")\n",
        "df = pd.DataFrame(data = dados, columns = colunas, index = linhas)\n",
        "print(\"\\n{}\".format(df))\n",
        "print(\"\\n\")\n",
        "print(list(df.index))\n",
        "print(\"\\n\")\n",
        "print(list(df.columns))\n",
        "print(\"\\n{}\".format(df))\n",
        "print(\"\\n\")\n",
        "print(df.ndim)\n",
        "print(\"\\n\")\n",
        "print(df.shape)\n",
        "print(\"\\n\")\n",
        "print(df.size)\n",
        "print(\"\\n\")\n",
        "print(df.empty)\n",
        "print(df)"
      ],
      "metadata": {
        "colab": {
          "base_uri": "https://localhost:8080/"
        },
        "id": "cv51phE9ms13",
        "outputId": "adeae5a6-c8ed-4f1f-b8a9-5754b2a0f9b7"
      },
      "execution_count": null,
      "outputs": [
        {
          "output_type": "stream",
          "name": "stdout",
          "text": [
            "\n",
            "    Nome  Idade\n",
            "A    Ana     21\n",
            "B  Bruno     20\n",
            "C  Carla     22\n",
            "\n",
            "\n",
            "['A', 'B', 'C']\n",
            "\n",
            "\n",
            "['Nome', 'Idade']\n",
            "\n",
            "    Nome  Idade\n",
            "A    Ana     21\n",
            "B  Bruno     20\n",
            "C  Carla     22\n",
            "\n",
            "\n",
            "2\n",
            "\n",
            "\n",
            "(3, 2)\n",
            "\n",
            "\n",
            "6\n",
            "\n",
            "\n",
            "False\n",
            "    Nome  Idade\n",
            "A    Ana     21\n",
            "B  Bruno     20\n",
            "C  Carla     22\n"
          ]
        }
      ]
    }
  ]
}